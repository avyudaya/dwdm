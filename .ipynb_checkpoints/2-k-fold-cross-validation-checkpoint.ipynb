{
 "cells": [
  {
   "cell_type": "markdown",
   "id": "f1d6f936-7280-4937-912a-4eafe8443efe",
   "metadata": {},
   "source": [
    "# Lab 2: K Fold Cross Validation"
   ]
  },
  {
   "cell_type": "code",
   "execution_count": 2,
   "id": "d148eee2-1ecf-49f1-97f9-27d216010738",
   "metadata": {},
   "outputs": [],
   "source": [
    "import pandas as pd\n",
    "import numpy as np\n",
    "\n",
    "from sklearn.linear_model import LogisticRegression\n",
    "from sklearn.svm import SVC\n",
    "from sklearn.ensemble import RandomForestClassifier\n",
    "\n",
    "from sklearn.model_selection import train_test_split\n",
    "from sklearn.model_selection import KFold\n",
    "from sklearn.model_selection import cross_val_score\n",
    "\n",
    "from sklearn.datasets import load_digits\n",
    "import matplotlib.pyplot as plt"
   ]
  },
  {
   "cell_type": "code",
   "execution_count": 4,
   "id": "756a052b-8fad-47a5-b97f-f6d3fb49fbc4",
   "metadata": {},
   "outputs": [],
   "source": [
    "digits = load_digits()"
   ]
  },
  {
   "cell_type": "code",
   "execution_count": 5,
   "id": "0cf7a94b-97eb-4399-b581-bbd268687b9a",
   "metadata": {},
   "outputs": [],
   "source": [
    "# Separate between inputs and outputs features \n",
    "X = digits.data\n",
    "y = digits.target"
   ]
  },
  {
   "cell_type": "code",
   "execution_count": 6,
   "id": "32e9c1de-f684-4a63-85a4-4175508b9698",
   "metadata": {},
   "outputs": [
    {
     "data": {
      "text/plain": [
       "1797"
      ]
     },
     "execution_count": 6,
     "metadata": {},
     "output_type": "execute_result"
    }
   ],
   "source": [
    "len(X)"
   ]
  },
  {
   "cell_type": "code",
   "execution_count": 12,
   "id": "9416ba6c-6593-4b3d-9516-d31f0bbbf85f",
   "metadata": {},
   "outputs": [
    {
     "data": {
      "text/plain": [
       "array([ 0.,  0.,  2., 12.,  9.,  0.,  0.,  0.,  0.,  0., 11., 15., 12.,\n",
       "        5.,  0.,  0.,  0.,  0., 15.,  5.,  0., 14.,  0.,  0.,  0.,  2.,\n",
       "       15.,  1.,  0.,  9.,  7.,  0.,  0.,  4., 10.,  0.,  0.,  7.,  8.,\n",
       "        0.,  0.,  0., 12.,  0.,  0.,  8., 10.,  0.,  0.,  2., 15.,  5.,\n",
       "       10., 16.,  1.,  0.,  0.,  0.,  5., 14., 12.,  4.,  0.,  0.])"
      ]
     },
     "execution_count": 12,
     "metadata": {},
     "output_type": "execute_result"
    }
   ],
   "source": [
    "X[130]"
   ]
  },
  {
   "cell_type": "code",
   "execution_count": 13,
   "id": "78d2b07b-b5a1-402e-8b84-f65e8c6096be",
   "metadata": {},
   "outputs": [
    {
     "data": {
      "text/plain": [
       "0"
      ]
     },
     "execution_count": 13,
     "metadata": {},
     "output_type": "execute_result"
    }
   ],
   "source": [
    "y[130]"
   ]
  },
  {
   "cell_type": "code",
   "execution_count": 14,
   "id": "b6d2eee8-3214-4066-985d-0bbc0be28583",
   "metadata": {},
   "outputs": [
    {
     "data": {
      "text/plain": [
       "<matplotlib.image.AxesImage at 0x29413aa7e50>"
      ]
     },
     "execution_count": 14,
     "metadata": {},
     "output_type": "execute_result"
    },
    {
     "data": {
      "text/plain": [
       "<Figure size 640x480 with 0 Axes>"
      ]
     },
     "metadata": {},
     "output_type": "display_data"
    },
    {
     "data": {
      "image/png": "[encoded data removed]",
      "text/plain": [
       "<Figure size 480x480 with 1 Axes>"
      ]
     },
     "metadata": {},
     "output_type": "display_data"
    }
   ],
   "source": [
    "plt.gray()\n",
    "plt.matshow(digits.images[130])"
   ]
  },
  {
   "cell_type": "code",
   "execution_count": 15,
   "id": "658f6721-4e8a-47f4-8791-07eeca21ecbe",
   "metadata": {},
   "outputs": [],
   "source": [
    "# Separate training and test sets \n",
    "X_train, X_test, y_train, y_test = train_test_split(X, y, test_size=0.3)"
   ]
  },
  {
   "cell_type": "markdown",
   "id": "a50c9baa-08ce-478f-9d3c-334e00f06123",
   "metadata": {},
   "source": [
    "## Modeling"
   ]
  },
  {
   "cell_type": "code",
   "execution_count": 17,
   "id": "87e2df83-349a-4bae-8e58-6356b00f638d",
   "metadata": {},
   "outputs": [],
   "source": [
    "def calc_score(model, X_train, X_test, y_train, y_test):\n",
    " model.fit(X_train, y_train)\n",
    " return model.score(X_test, y_test)"
   ]
  },
  {
   "cell_type": "code",
   "execution_count": 18,
   "id": "4c577bba-70ae-460f-b636-a8a9724c9f44",
   "metadata": {},
   "outputs": [
    {
     "data": {
      "text/plain": [
       "0.9611111111111111"
      ]
     },
     "execution_count": 18,
     "metadata": {},
     "output_type": "execute_result"
    }
   ],
   "source": [
    "# Logistic Regression \n",
    "lr = LogisticRegression(solver='liblinear')\n",
    "# lr.fit(X_train, y_train)\n",
    "# lr.score(X_test, y_test)\n",
    "calc_score(lr, X_train, X_test, y_train, y_test)"
   ]
  },
  {
   "cell_type": "code",
   "execution_count": 19,
   "id": "27c190e7-fd35-4f64-a81c-a826ba02bd91",
   "metadata": {},
   "outputs": [
    {
     "data": {
      "text/plain": [
       "0.4148148148148148"
      ]
     },
     "execution_count": 19,
     "metadata": {},
     "output_type": "execute_result"
    }
   ],
   "source": [
    "# Support Vector Machine\n",
    "svm = SVC(gamma='auto')\n",
    "calc_score(svm, X_train, X_test, y_train, y_test)\n"
   ]
  },
  {
   "cell_type": "code",
   "execution_count": 20,
   "id": "5ec1644d-c117-4ebf-907a-392bc3466e98",
   "metadata": {},
   "outputs": [
    {
     "data": {
      "text/plain": [
       "0.9666666666666667"
      ]
     },
     "execution_count": 20,
     "metadata": {},
     "output_type": "execute_result"
    }
   ],
   "source": [
    "# Random Forest\n",
    "rf = RandomForestClassifier(n_estimators=40)\n",
    "calc_score(rf, X_train, X_test, y_train, y_test)"
   ]
  },
  {
   "cell_type": "markdown",
   "id": "30fcd134-e230-4ebe-8c9e-fcd97a47d03f",
   "metadata": {},
   "source": [
    "## KFold"
   ]
  },
  {
   "cell_type": "code",
   "execution_count": 21,
   "id": "97517df9-a494-4ec2-bc99-844fdd9e5e3d",
   "metadata": {},
   "outputs": [
    {
     "data": {
      "text/plain": [
       "array([0.92222222, 0.88333333, 0.95264624, 0.95821727, 0.89415042])"
      ]
     },
     "execution_count": 21,
     "metadata": {},
     "output_type": "execute_result"
    }
   ],
   "source": [
    "cross_val_score(LogisticRegression(solver='liblinear'), X, y, cv=5)"
   ]
  },
  {
   "cell_type": "code",
   "execution_count": 22,
   "id": "51ea27f2-cd1c-4e22-af7d-e483deb18607",
   "metadata": {},
   "outputs": [
    {
     "data": {
      "text/plain": [
       "0.4346132442960489"
      ]
     },
     "execution_count": 22,
     "metadata": {},
     "output_type": "execute_result"
    }
   ],
   "source": [
    "cross_val_score(SVC(gamma='auto'), X, y, cv=3).mean()"
   ]
  },
  {
   "cell_type": "code",
   "execution_count": 23,
   "id": "544ed9ca-fa51-452e-a6c7-bda281533746",
   "metadata": {},
   "outputs": [
    {
     "data": {
      "text/plain": [
       "0.934891485809683"
      ]
     },
     "execution_count": 23,
     "metadata": {},
     "output_type": "execute_result"
    }
   ],
   "source": [
    "cross_val_score(RandomForestClassifier(n_estimators=40), X, y, cv=3).mean()"
   ]
  }
 ],
 "metadata": {
  "kernelspec": {
   "display_name": "Python 3 (ipykernel)",
   "language": "python",
   "name": "python3"
  },
  "language_info": {
   "codemirror_mode": {
    "name": "ipython",
    "version": 3
   },
   "file_extension": ".py",
   "mimetype": "text/x-python",
   "name": "python",
   "nbconvert_exporter": "python",
   "pygments_lexer": "ipython3",
   "version": "3.10.9"
  }
 },
 "nbformat": 4,
 "nbformat_minor": 5
}
