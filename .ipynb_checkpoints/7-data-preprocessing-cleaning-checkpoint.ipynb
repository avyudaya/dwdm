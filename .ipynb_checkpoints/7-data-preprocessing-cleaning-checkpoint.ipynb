{
 "cells": [
  {
   "cell_type": "code",
   "execution_count": 1,
   "id": "5b0e1fc4-4890-4cbc-aa82-d3fa5824a91b",
   "metadata": {},
   "outputs": [],
   "source": [
    "import numpy as np\n",
    "import pandas as pd\n",
    "import matplotlib.pyplot as plt"
   ]
  },
  {
   "cell_type": "code",
   "execution_count": 3,
   "id": "5dc43b70-ba8d-48d3-9770-825c14b19c2a",
   "metadata": {},
   "outputs": [],
   "source": [
    "def remove_duplicate(data):\n",
    " dups = data.duplicated()\n",
    " \n",
    " print(\"Duplicate rows\")\n",
    " print(data[dups])\n",
    " print()\n",
    " print(\"\\nNumber of duplicate rows = %d\" %(dups.sum()))\n",
    " print(\"Number of rows before discarding duplicates = %d\" %(data.shape[0]))\n",
    " \n",
    " data2= data.drop_duplicates()\n",
    " \n",
    " print(\"Number of rows after discarding duplicated = %d\" %(data2.shape[0]))"
   ]
  },
  {
   "cell_type": "code",
   "execution_count": 4,
   "id": "73caf8d6-51a4-48f1-a9e1-9bc778928a15",
   "metadata": {},
   "outputs": [],
   "source": [
    "def remove_missing(data):\n",
    " print('Number of rows in original data = %d' %(data.shape[0]))\n",
    " data = data.dropna()\n",
    " print(\"Number of rows after discarding missing values = %d\" %(data.shape[0]))"
   ]
  },
  {
   "cell_type": "code",
   "execution_count": 5,
   "id": "09026165-e578-4b03-9302-016e1091bae7",
   "metadata": {},
   "outputs": [],
   "source": [
    "def replace_by_median(data, column='Clump Thickness'):\n",
    " # Trying to replace one column \n",
    " data2 = data[column]\n",
    " \n",
    " print(\"Before replacing missing values\")\n",
    " print(data2[20:25])\n",
    " \n",
    " data2 = data2.fillna(data2.median())\n",
    " # Note use data2.mean()\n",
    " # If there is no any missing values, the data will remain the same.\n",
    " \n",
    " print(\"\\nAfter replacing missing values by median: \")\n",
    " print(data2[20:25])"
   ]
  },
  {
   "cell_type": "code",
   "execution_count": 7,
   "id": "f3424229-635e-421d-818d-ac4b0031de95",
   "metadata": {},
   "outputs": [],
   "source": [
    "df = pd.read_csv(\"https://archive.ics.uci.edu/ml/machine-learning-databases/breast-cancer-wisconsin/breast-cancer-wisconsin.data\")"
   ]
  },
  {
   "cell_type": "code",
   "execution_count": 9,
   "id": "7586c2b5-217c-42b9-87cb-f7053b7efdd5",
   "metadata": {},
   "outputs": [],
   "source": [
    "df.columns = ['Sample code', 'Clump Thickness', 'Uniformity of Cell Size', 'Uniformity of Cell Shape',\n",
    " 'Marginal Adhesion', 'Single Epithelial Cell Size', 'Bare Nuclei', 'Brand Chromatin',\n",
    " 'Normal Nucleoli', 'Mitoses', 'Class']"
   ]
  },
  {
   "cell_type": "code",
   "execution_count": 10,
   "id": "135609c9-ace6-4076-87ca-f75f20c193f2",
   "metadata": {},
   "outputs": [
    {
     "data": {
      "text/html": [
       "<div>\n",
       "<style scoped>\n",
       "    .dataframe tbody tr th:only-of-type {\n",
       "        vertical-align: middle;\n",
       "    }\n",
       "\n",
       "    .dataframe tbody tr th {\n",
       "        vertical-align: top;\n",
       "    }\n",
       "\n",
       "    .dataframe thead th {\n",
       "        text-align: right;\n",
       "    }\n",
       "</style>\n",
       "<table border=\"1\" class=\"dataframe\">\n",
       "  <thead>\n",
       "    <tr style=\"text-align: right;\">\n",
       "      <th></th>\n",
       "      <th>Sample code</th>\n",
       "      <th>Clump Thickness</th>\n",
       "      <th>Uniformity of Cell Size</th>\n",
       "      <th>Uniformity of Cell Shape</th>\n",
       "      <th>Marginal Adhesion</th>\n",
       "      <th>Single Epithelial Cell Size</th>\n",
       "      <th>Bare Nuclei</th>\n",
       "      <th>Brand Chromatin</th>\n",
       "      <th>Normal Nucleoli</th>\n",
       "      <th>Mitoses</th>\n",
       "      <th>Class</th>\n",
       "    </tr>\n",
       "  </thead>\n",
       "  <tbody>\n",
       "    <tr>\n",
       "      <th>20</th>\n",
       "      <td>1054593</td>\n",
       "      <td>10</td>\n",
       "      <td>5</td>\n",
       "      <td>5</td>\n",
       "      <td>3</td>\n",
       "      <td>6</td>\n",
       "      <td>7</td>\n",
       "      <td>7</td>\n",
       "      <td>10</td>\n",
       "      <td>1</td>\n",
       "      <td>4</td>\n",
       "    </tr>\n",
       "    <tr>\n",
       "      <th>21</th>\n",
       "      <td>1056784</td>\n",
       "      <td>3</td>\n",
       "      <td>1</td>\n",
       "      <td>1</td>\n",
       "      <td>1</td>\n",
       "      <td>2</td>\n",
       "      <td>1</td>\n",
       "      <td>2</td>\n",
       "      <td>1</td>\n",
       "      <td>1</td>\n",
       "      <td>2</td>\n",
       "    </tr>\n",
       "    <tr>\n",
       "      <th>22</th>\n",
       "      <td>1057013</td>\n",
       "      <td>8</td>\n",
       "      <td>4</td>\n",
       "      <td>5</td>\n",
       "      <td>1</td>\n",
       "      <td>2</td>\n",
       "      <td>?</td>\n",
       "      <td>7</td>\n",
       "      <td>3</td>\n",
       "      <td>1</td>\n",
       "      <td>4</td>\n",
       "    </tr>\n",
       "    <tr>\n",
       "      <th>23</th>\n",
       "      <td>1059552</td>\n",
       "      <td>1</td>\n",
       "      <td>1</td>\n",
       "      <td>1</td>\n",
       "      <td>1</td>\n",
       "      <td>2</td>\n",
       "      <td>1</td>\n",
       "      <td>3</td>\n",
       "      <td>1</td>\n",
       "      <td>1</td>\n",
       "      <td>2</td>\n",
       "    </tr>\n",
       "    <tr>\n",
       "      <th>24</th>\n",
       "      <td>1065726</td>\n",
       "      <td>5</td>\n",
       "      <td>2</td>\n",
       "      <td>3</td>\n",
       "      <td>4</td>\n",
       "      <td>2</td>\n",
       "      <td>7</td>\n",
       "      <td>3</td>\n",
       "      <td>6</td>\n",
       "      <td>1</td>\n",
       "      <td>4</td>\n",
       "    </tr>\n",
       "  </tbody>\n",
       "</table>\n",
       "</div>"
      ],
      "text/plain": [
       "    Sample code  Clump Thickness  Uniformity of Cell Size  \\\n",
       "20      1054593               10                        5   \n",
       "21      1056784                3                        1   \n",
       "22      1057013                8                        4   \n",
       "23      1059552                1                        1   \n",
       "24      1065726                5                        2   \n",
       "\n",
       "    Uniformity of Cell Shape  Marginal Adhesion  Single Epithelial Cell Size  \\\n",
       "20                         5                  3                            6   \n",
       "21                         1                  1                            2   \n",
       "22                         5                  1                            2   \n",
       "23                         1                  1                            2   \n",
       "24                         3                  4                            2   \n",
       "\n",
       "   Bare Nuclei  Brand Chromatin  Normal Nucleoli  Mitoses  Class  \n",
       "20           7                7               10        1      4  \n",
       "21           1                2                1        1      2  \n",
       "22           ?                7                3        1      4  \n",
       "23           1                3                1        1      2  \n",
       "24           7                3                6        1      4  "
      ]
     },
     "execution_count": 10,
     "metadata": {},
     "output_type": "execute_result"
    }
   ],
   "source": [
    "df.iloc[20:25, :]"
   ]
  },
  {
   "cell_type": "code",
   "execution_count": 11,
   "id": "21169c14-35c5-4618-b9c5-e735f5a518ea",
   "metadata": {},
   "outputs": [
    {
     "name": "stdout",
     "output_type": "stream",
     "text": [
      "Before replacing missing values\n",
      "20    10\n",
      "21     3\n",
      "22     8\n",
      "23     1\n",
      "24     5\n",
      "Name: Clump Thickness, dtype: int64\n",
      "\n",
      "After replacing missing values by median: \n",
      "20    10\n",
      "21     3\n",
      "22     8\n",
      "23     1\n",
      "24     5\n",
      "Name: Clump Thickness, dtype: int64\n"
     ]
    }
   ],
   "source": [
    "replace_by_median(df)"
   ]
  }
 ],
 "metadata": {
  "kernelspec": {
   "display_name": "Python 3 (ipykernel)",
   "language": "python",
   "name": "python3"
  },
  "language_info": {
   "codemirror_mode": {
    "name": "ipython",
    "version": 3
   },
   "file_extension": ".py",
   "mimetype": "text/x-python",
   "name": "python",
   "nbconvert_exporter": "python",
   "pygments_lexer": "ipython3",
   "version": "3.10.9"
  }
 },
 "nbformat": 4,
 "nbformat_minor": 5
}
