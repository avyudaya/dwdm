{
 "cells": [
  {
   "cell_type": "markdown",
   "id": "ab822c6c-45e7-4052-9e9d-6703c02743ce",
   "metadata": {},
   "source": [
    "# Lab 3: Preprocessing Assignement"
   ]
  },
  {
   "cell_type": "code",
   "execution_count": 1,
   "id": "1540c4cc-04a6-4f9d-a60f-c9b023feb2b9",
   "metadata": {},
   "outputs": [],
   "source": [
    "import pandas as pd\n",
    "import numpy as np\n",
    "import matplotlib.pyplot as plt\n",
    "\n",
    "import seaborn as sns"
   ]
  },
  {
   "cell_type": "markdown",
   "id": "5fbacb7c-c7c6-40a9-9f9c-ffb2f44114fa",
   "metadata": {},
   "source": [
    "### 1. Load the dataset"
   ]
  },
  {
   "cell_type": "code",
   "execution_count": 2,
   "id": "18c8dc47-6963-4afd-b4ee-16d7fb45542b",
   "metadata": {},
   "outputs": [],
   "source": [
    "df = pd.read_csv(\"data/some_data.csv\")"
   ]
  },
  {
   "cell_type": "code",
   "execution_count": 3,
   "id": "cecd0aca-677b-47fe-82b9-8b80e89bf726",
   "metadata": {},
   "outputs": [
    {
     "name": "stdout",
     "output_type": "stream",
     "text": [
      "<class 'pandas.core.frame.DataFrame'>\n",
      "RangeIndex: 95412 entries, 0 to 95411\n",
      "Data columns (total 22 columns):\n",
      " #   Column                   Non-Null Count  Dtype  \n",
      "---  ------                   --------------  -----  \n",
      " 0   age                      71747 non-null  float64\n",
      " 1   numberChildren           12386 non-null  float64\n",
      " 2   incomeRating             74126 non-null  float64\n",
      " 3   wealthRating             50680 non-null  float64\n",
      " 4   mailOrderPurchases       95412 non-null  int64  \n",
      " 5   totalGivingAmount        95412 non-null  float64\n",
      " 6   numberGifts              95412 non-null  int64  \n",
      " 7   smallestGiftAmount       95412 non-null  float64\n",
      " 8   largestGiftAmount        95412 non-null  float64\n",
      " 9   averageGiftAmount        95412 non-null  float64\n",
      " 10  yearsSinceFirstDonation  95412 non-null  int64  \n",
      " 11  monthsSinceLastDonation  95412 non-null  int64  \n",
      " 12  inHouseDonor             95412 non-null  bool   \n",
      " 13  plannedGivingDonor       95412 non-null  bool   \n",
      " 14  sweepstakesDonor         95412 non-null  bool   \n",
      " 15  P3Donor                  95412 non-null  bool   \n",
      " 16  state                    95412 non-null  object \n",
      " 17  urbanicity               93096 non-null  object \n",
      " 18  socioEconomicStatus      93096 non-null  object \n",
      " 19  isHomeowner              52354 non-null  object \n",
      " 20  gender                   90736 non-null  object \n",
      " 21  respondedMailing         95412 non-null  bool   \n",
      "dtypes: bool(5), float64(8), int64(4), object(5)\n",
      "memory usage: 12.8+ MB\n"
     ]
    }
   ],
   "source": [
    "df.info()"
   ]
  },
  {
   "cell_type": "markdown",
   "id": "041f3522-3269-439f-8001-2a7a65fe3c5b",
   "metadata": {},
   "source": [
    "### 2. List all the features of data set"
   ]
  },
  {
   "cell_type": "code",
   "execution_count": 4,
   "id": "85e01104-8191-4255-974c-be97080380c0",
   "metadata": {},
   "outputs": [
    {
     "data": {
      "text/plain": [
       "Index(['age', 'numberChildren', 'incomeRating', 'wealthRating',\n",
       "       'mailOrderPurchases', 'totalGivingAmount', 'numberGifts',\n",
       "       'smallestGiftAmount', 'largestGiftAmount', 'averageGiftAmount',\n",
       "       'yearsSinceFirstDonation', 'monthsSinceLastDonation', 'inHouseDonor',\n",
       "       'plannedGivingDonor', 'sweepstakesDonor', 'P3Donor', 'state',\n",
       "       'urbanicity', 'socioEconomicStatus', 'isHomeowner', 'gender',\n",
       "       'respondedMailing'],\n",
       "      dtype='object')"
      ]
     },
     "execution_count": 4,
     "metadata": {},
     "output_type": "execute_result"
    }
   ],
   "source": [
    "df.columns"
   ]
  },
  {
   "cell_type": "code",
   "execution_count": 5,
   "id": "5f1707f5-b861-477a-bf0b-304e44f2cb0c",
   "metadata": {},
   "outputs": [
    {
     "data": {
      "text/html": [
       "<div>\n",
       "<style scoped>\n",
       "    .dataframe tbody tr th:only-of-type {\n",
       "        vertical-align: middle;\n",
       "    }\n",
       "\n",
       "    .dataframe tbody tr th {\n",
       "        vertical-align: top;\n",
       "    }\n",
       "\n",
       "    .dataframe thead th {\n",
       "        text-align: right;\n",
       "    }\n",
       "</style>\n",
       "<table border=\"1\" class=\"dataframe\">\n",
       "  <thead>\n",
       "    <tr style=\"text-align: right;\">\n",
       "      <th></th>\n",
       "      <th>age</th>\n",
       "      <th>numberChildren</th>\n",
       "      <th>incomeRating</th>\n",
       "      <th>wealthRating</th>\n",
       "      <th>mailOrderPurchases</th>\n",
       "      <th>totalGivingAmount</th>\n",
       "      <th>numberGifts</th>\n",
       "      <th>smallestGiftAmount</th>\n",
       "      <th>largestGiftAmount</th>\n",
       "      <th>averageGiftAmount</th>\n",
       "      <th>yearsSinceFirstDonation</th>\n",
       "      <th>monthsSinceLastDonation</th>\n",
       "    </tr>\n",
       "  </thead>\n",
       "  <tbody>\n",
       "    <tr>\n",
       "      <th>count</th>\n",
       "      <td>71747.000000</td>\n",
       "      <td>12386.000000</td>\n",
       "      <td>74126.000000</td>\n",
       "      <td>50680.000000</td>\n",
       "      <td>95412.000000</td>\n",
       "      <td>95412.000000</td>\n",
       "      <td>95412.000000</td>\n",
       "      <td>95412.000000</td>\n",
       "      <td>95412.000000</td>\n",
       "      <td>95412.000000</td>\n",
       "      <td>95412.000000</td>\n",
       "      <td>95412.000000</td>\n",
       "    </tr>\n",
       "    <tr>\n",
       "      <th>mean</th>\n",
       "      <td>61.611649</td>\n",
       "      <td>1.527773</td>\n",
       "      <td>3.886248</td>\n",
       "      <td>5.345699</td>\n",
       "      <td>3.321438</td>\n",
       "      <td>104.489351</td>\n",
       "      <td>9.602031</td>\n",
       "      <td>7.933656</td>\n",
       "      <td>19.999790</td>\n",
       "      <td>13.347786</td>\n",
       "      <td>5.595774</td>\n",
       "      <td>14.361548</td>\n",
       "    </tr>\n",
       "    <tr>\n",
       "      <th>std</th>\n",
       "      <td>16.664199</td>\n",
       "      <td>0.806861</td>\n",
       "      <td>1.854960</td>\n",
       "      <td>2.742490</td>\n",
       "      <td>9.306899</td>\n",
       "      <td>118.580367</td>\n",
       "      <td>8.554342</td>\n",
       "      <td>8.784231</td>\n",
       "      <td>25.067746</td>\n",
       "      <td>10.769997</td>\n",
       "      <td>3.434600</td>\n",
       "      <td>3.956167</td>\n",
       "    </tr>\n",
       "    <tr>\n",
       "      <th>min</th>\n",
       "      <td>1.000000</td>\n",
       "      <td>1.000000</td>\n",
       "      <td>1.000000</td>\n",
       "      <td>0.000000</td>\n",
       "      <td>0.000000</td>\n",
       "      <td>13.000000</td>\n",
       "      <td>1.000000</td>\n",
       "      <td>0.000000</td>\n",
       "      <td>5.000000</td>\n",
       "      <td>1.285714</td>\n",
       "      <td>0.000000</td>\n",
       "      <td>0.000000</td>\n",
       "    </tr>\n",
       "    <tr>\n",
       "      <th>25%</th>\n",
       "      <td>48.000000</td>\n",
       "      <td>1.000000</td>\n",
       "      <td>2.000000</td>\n",
       "      <td>3.000000</td>\n",
       "      <td>0.000000</td>\n",
       "      <td>40.000000</td>\n",
       "      <td>3.000000</td>\n",
       "      <td>3.000000</td>\n",
       "      <td>14.000000</td>\n",
       "      <td>8.384615</td>\n",
       "      <td>2.000000</td>\n",
       "      <td>12.000000</td>\n",
       "    </tr>\n",
       "    <tr>\n",
       "      <th>50%</th>\n",
       "      <td>62.000000</td>\n",
       "      <td>1.000000</td>\n",
       "      <td>4.000000</td>\n",
       "      <td>6.000000</td>\n",
       "      <td>0.000000</td>\n",
       "      <td>78.000000</td>\n",
       "      <td>7.000000</td>\n",
       "      <td>5.000000</td>\n",
       "      <td>17.000000</td>\n",
       "      <td>11.636364</td>\n",
       "      <td>5.000000</td>\n",
       "      <td>14.000000</td>\n",
       "    </tr>\n",
       "    <tr>\n",
       "      <th>75%</th>\n",
       "      <td>75.000000</td>\n",
       "      <td>2.000000</td>\n",
       "      <td>5.000000</td>\n",
       "      <td>8.000000</td>\n",
       "      <td>3.000000</td>\n",
       "      <td>131.000000</td>\n",
       "      <td>13.000000</td>\n",
       "      <td>10.000000</td>\n",
       "      <td>23.000000</td>\n",
       "      <td>15.477955</td>\n",
       "      <td>9.000000</td>\n",
       "      <td>17.000000</td>\n",
       "    </tr>\n",
       "    <tr>\n",
       "      <th>max</th>\n",
       "      <td>98.000000</td>\n",
       "      <td>7.000000</td>\n",
       "      <td>7.000000</td>\n",
       "      <td>9.000000</td>\n",
       "      <td>241.000000</td>\n",
       "      <td>9485.000000</td>\n",
       "      <td>237.000000</td>\n",
       "      <td>1000.000000</td>\n",
       "      <td>5000.000000</td>\n",
       "      <td>1000.000000</td>\n",
       "      <td>13.000000</td>\n",
       "      <td>23.000000</td>\n",
       "    </tr>\n",
       "  </tbody>\n",
       "</table>\n",
       "</div>"
      ],
      "text/plain": [
       "                age  numberChildren  incomeRating  wealthRating  \\\n",
       "count  71747.000000    12386.000000  74126.000000  50680.000000   \n",
       "mean      61.611649        1.527773      3.886248      5.345699   \n",
       "std       16.664199        0.806861      1.854960      2.742490   \n",
       "min        1.000000        1.000000      1.000000      0.000000   \n",
       "25%       48.000000        1.000000      2.000000      3.000000   \n",
       "50%       62.000000        1.000000      4.000000      6.000000   \n",
       "75%       75.000000        2.000000      5.000000      8.000000   \n",
       "max       98.000000        7.000000      7.000000      9.000000   \n",
       "\n",
       "       mailOrderPurchases  totalGivingAmount   numberGifts  \\\n",
       "count        95412.000000       95412.000000  95412.000000   \n",
       "mean             3.321438         104.489351      9.602031   \n",
       "std              9.306899         118.580367      8.554342   \n",
       "min              0.000000          13.000000      1.000000   \n",
       "25%              0.000000          40.000000      3.000000   \n",
       "50%              0.000000          78.000000      7.000000   \n",
       "75%              3.000000         131.000000     13.000000   \n",
       "max            241.000000        9485.000000    237.000000   \n",
       "\n",
       "       smallestGiftAmount  largestGiftAmount  averageGiftAmount  \\\n",
       "count        95412.000000       95412.000000       95412.000000   \n",
       "mean             7.933656          19.999790          13.347786   \n",
       "std              8.784231          25.067746          10.769997   \n",
       "min              0.000000           5.000000           1.285714   \n",
       "25%              3.000000          14.000000           8.384615   \n",
       "50%              5.000000          17.000000          11.636364   \n",
       "75%             10.000000          23.000000          15.477955   \n",
       "max           1000.000000        5000.000000        1000.000000   \n",
       "\n",
       "       yearsSinceFirstDonation  monthsSinceLastDonation  \n",
       "count             95412.000000             95412.000000  \n",
       "mean                  5.595774                14.361548  \n",
       "std                   3.434600                 3.956167  \n",
       "min                   0.000000                 0.000000  \n",
       "25%                   2.000000                12.000000  \n",
       "50%                   5.000000                14.000000  \n",
       "75%                   9.000000                17.000000  \n",
       "max                  13.000000                23.000000  "
      ]
     },
     "execution_count": 5,
     "metadata": {},
     "output_type": "execute_result"
    }
   ],
   "source": [
    "df.describe()"
   ]
  },
  {
   "cell_type": "markdown",
   "id": "3fe79ede-5d97-4eaf-8d62-8b7105575ac5",
   "metadata": {},
   "source": [
    "### 3. Get the first 100 samples"
   ]
  },
  {
   "cell_type": "code",
   "execution_count": 6,
   "id": "c192bcd8-0e79-4935-8709-0066a6fba7ca",
   "metadata": {},
   "outputs": [
    {
     "data": {
      "text/html": [
       "<div>\n",
       "<style scoped>\n",
       "    .dataframe tbody tr th:only-of-type {\n",
       "        vertical-align: middle;\n",
       "    }\n",
       "\n",
       "    .dataframe tbody tr th {\n",
       "        vertical-align: top;\n",
       "    }\n",
       "\n",
       "    .dataframe thead th {\n",
       "        text-align: right;\n",
       "    }\n",
       "</style>\n",
       "<table border=\"1\" class=\"dataframe\">\n",
       "  <thead>\n",
       "    <tr style=\"text-align: right;\">\n",
       "      <th></th>\n",
       "      <th>age</th>\n",
       "      <th>numberChildren</th>\n",
       "      <th>incomeRating</th>\n",
       "      <th>wealthRating</th>\n",
       "      <th>mailOrderPurchases</th>\n",
       "      <th>totalGivingAmount</th>\n",
       "      <th>numberGifts</th>\n",
       "      <th>smallestGiftAmount</th>\n",
       "      <th>largestGiftAmount</th>\n",
       "      <th>averageGiftAmount</th>\n",
       "      <th>...</th>\n",
       "      <th>inHouseDonor</th>\n",
       "      <th>plannedGivingDonor</th>\n",
       "      <th>sweepstakesDonor</th>\n",
       "      <th>P3Donor</th>\n",
       "      <th>state</th>\n",
       "      <th>urbanicity</th>\n",
       "      <th>socioEconomicStatus</th>\n",
       "      <th>isHomeowner</th>\n",
       "      <th>gender</th>\n",
       "      <th>respondedMailing</th>\n",
       "    </tr>\n",
       "  </thead>\n",
       "  <tbody>\n",
       "    <tr>\n",
       "      <th>0</th>\n",
       "      <td>60.0</td>\n",
       "      <td>NaN</td>\n",
       "      <td>NaN</td>\n",
       "      <td>NaN</td>\n",
       "      <td>0</td>\n",
       "      <td>240.0</td>\n",
       "      <td>31</td>\n",
       "      <td>5.0</td>\n",
       "      <td>12.0</td>\n",
       "      <td>7.741935</td>\n",
       "      <td>...</td>\n",
       "      <td>False</td>\n",
       "      <td>False</td>\n",
       "      <td>False</td>\n",
       "      <td>False</td>\n",
       "      <td>IL</td>\n",
       "      <td>town</td>\n",
       "      <td>average</td>\n",
       "      <td>NaN</td>\n",
       "      <td>female</td>\n",
       "      <td>False</td>\n",
       "    </tr>\n",
       "    <tr>\n",
       "      <th>1</th>\n",
       "      <td>46.0</td>\n",
       "      <td>1.0</td>\n",
       "      <td>6.0</td>\n",
       "      <td>9.0</td>\n",
       "      <td>16</td>\n",
       "      <td>47.0</td>\n",
       "      <td>3</td>\n",
       "      <td>10.0</td>\n",
       "      <td>25.0</td>\n",
       "      <td>15.666667</td>\n",
       "      <td>...</td>\n",
       "      <td>False</td>\n",
       "      <td>False</td>\n",
       "      <td>False</td>\n",
       "      <td>False</td>\n",
       "      <td>CA</td>\n",
       "      <td>suburb</td>\n",
       "      <td>highest</td>\n",
       "      <td>True</td>\n",
       "      <td>male</td>\n",
       "      <td>False</td>\n",
       "    </tr>\n",
       "    <tr>\n",
       "      <th>2</th>\n",
       "      <td>NaN</td>\n",
       "      <td>NaN</td>\n",
       "      <td>3.0</td>\n",
       "      <td>1.0</td>\n",
       "      <td>2</td>\n",
       "      <td>202.0</td>\n",
       "      <td>27</td>\n",
       "      <td>2.0</td>\n",
       "      <td>16.0</td>\n",
       "      <td>7.481481</td>\n",
       "      <td>...</td>\n",
       "      <td>False</td>\n",
       "      <td>False</td>\n",
       "      <td>False</td>\n",
       "      <td>False</td>\n",
       "      <td>NC</td>\n",
       "      <td>rural</td>\n",
       "      <td>average</td>\n",
       "      <td>NaN</td>\n",
       "      <td>male</td>\n",
       "      <td>False</td>\n",
       "    </tr>\n",
       "    <tr>\n",
       "      <th>3</th>\n",
       "      <td>70.0</td>\n",
       "      <td>NaN</td>\n",
       "      <td>1.0</td>\n",
       "      <td>4.0</td>\n",
       "      <td>2</td>\n",
       "      <td>109.0</td>\n",
       "      <td>16</td>\n",
       "      <td>2.0</td>\n",
       "      <td>11.0</td>\n",
       "      <td>6.812500</td>\n",
       "      <td>...</td>\n",
       "      <td>False</td>\n",
       "      <td>False</td>\n",
       "      <td>False</td>\n",
       "      <td>False</td>\n",
       "      <td>CA</td>\n",
       "      <td>rural</td>\n",
       "      <td>average</td>\n",
       "      <td>NaN</td>\n",
       "      <td>female</td>\n",
       "      <td>False</td>\n",
       "    </tr>\n",
       "    <tr>\n",
       "      <th>4</th>\n",
       "      <td>78.0</td>\n",
       "      <td>1.0</td>\n",
       "      <td>3.0</td>\n",
       "      <td>2.0</td>\n",
       "      <td>60</td>\n",
       "      <td>254.0</td>\n",
       "      <td>37</td>\n",
       "      <td>3.0</td>\n",
       "      <td>15.0</td>\n",
       "      <td>6.864865</td>\n",
       "      <td>...</td>\n",
       "      <td>True</td>\n",
       "      <td>False</td>\n",
       "      <td>False</td>\n",
       "      <td>True</td>\n",
       "      <td>FL</td>\n",
       "      <td>suburb</td>\n",
       "      <td>average</td>\n",
       "      <td>True</td>\n",
       "      <td>female</td>\n",
       "      <td>False</td>\n",
       "    </tr>\n",
       "    <tr>\n",
       "      <th>...</th>\n",
       "      <td>...</td>\n",
       "      <td>...</td>\n",
       "      <td>...</td>\n",
       "      <td>...</td>\n",
       "      <td>...</td>\n",
       "      <td>...</td>\n",
       "      <td>...</td>\n",
       "      <td>...</td>\n",
       "      <td>...</td>\n",
       "      <td>...</td>\n",
       "      <td>...</td>\n",
       "      <td>...</td>\n",
       "      <td>...</td>\n",
       "      <td>...</td>\n",
       "      <td>...</td>\n",
       "      <td>...</td>\n",
       "      <td>...</td>\n",
       "      <td>...</td>\n",
       "      <td>...</td>\n",
       "      <td>...</td>\n",
       "      <td>...</td>\n",
       "    </tr>\n",
       "    <tr>\n",
       "      <th>95</th>\n",
       "      <td>NaN</td>\n",
       "      <td>NaN</td>\n",
       "      <td>NaN</td>\n",
       "      <td>NaN</td>\n",
       "      <td>0</td>\n",
       "      <td>156.0</td>\n",
       "      <td>23</td>\n",
       "      <td>3.0</td>\n",
       "      <td>11.0</td>\n",
       "      <td>6.782609</td>\n",
       "      <td>...</td>\n",
       "      <td>False</td>\n",
       "      <td>False</td>\n",
       "      <td>False</td>\n",
       "      <td>False</td>\n",
       "      <td>NE</td>\n",
       "      <td>rural</td>\n",
       "      <td>average</td>\n",
       "      <td>NaN</td>\n",
       "      <td>female</td>\n",
       "      <td>False</td>\n",
       "    </tr>\n",
       "    <tr>\n",
       "      <th>96</th>\n",
       "      <td>50.0</td>\n",
       "      <td>NaN</td>\n",
       "      <td>3.0</td>\n",
       "      <td>3.0</td>\n",
       "      <td>8</td>\n",
       "      <td>74.0</td>\n",
       "      <td>7</td>\n",
       "      <td>5.0</td>\n",
       "      <td>15.0</td>\n",
       "      <td>10.571429</td>\n",
       "      <td>...</td>\n",
       "      <td>False</td>\n",
       "      <td>False</td>\n",
       "      <td>False</td>\n",
       "      <td>False</td>\n",
       "      <td>AZ</td>\n",
       "      <td>town</td>\n",
       "      <td>average</td>\n",
       "      <td>True</td>\n",
       "      <td>female</td>\n",
       "      <td>False</td>\n",
       "    </tr>\n",
       "    <tr>\n",
       "      <th>97</th>\n",
       "      <td>NaN</td>\n",
       "      <td>NaN</td>\n",
       "      <td>NaN</td>\n",
       "      <td>NaN</td>\n",
       "      <td>0</td>\n",
       "      <td>153.0</td>\n",
       "      <td>23</td>\n",
       "      <td>3.0</td>\n",
       "      <td>17.0</td>\n",
       "      <td>6.652174</td>\n",
       "      <td>...</td>\n",
       "      <td>False</td>\n",
       "      <td>False</td>\n",
       "      <td>False</td>\n",
       "      <td>False</td>\n",
       "      <td>MO</td>\n",
       "      <td>town</td>\n",
       "      <td>average</td>\n",
       "      <td>NaN</td>\n",
       "      <td>male</td>\n",
       "      <td>False</td>\n",
       "    </tr>\n",
       "    <tr>\n",
       "      <th>98</th>\n",
       "      <td>89.0</td>\n",
       "      <td>NaN</td>\n",
       "      <td>5.0</td>\n",
       "      <td>7.0</td>\n",
       "      <td>7</td>\n",
       "      <td>125.0</td>\n",
       "      <td>20</td>\n",
       "      <td>3.0</td>\n",
       "      <td>10.0</td>\n",
       "      <td>6.250000</td>\n",
       "      <td>...</td>\n",
       "      <td>True</td>\n",
       "      <td>False</td>\n",
       "      <td>False</td>\n",
       "      <td>False</td>\n",
       "      <td>FL</td>\n",
       "      <td>city</td>\n",
       "      <td>average</td>\n",
       "      <td>True</td>\n",
       "      <td>female</td>\n",
       "      <td>False</td>\n",
       "    </tr>\n",
       "    <tr>\n",
       "      <th>99</th>\n",
       "      <td>NaN</td>\n",
       "      <td>NaN</td>\n",
       "      <td>NaN</td>\n",
       "      <td>NaN</td>\n",
       "      <td>0</td>\n",
       "      <td>20.0</td>\n",
       "      <td>1</td>\n",
       "      <td>20.0</td>\n",
       "      <td>20.0</td>\n",
       "      <td>20.000000</td>\n",
       "      <td>...</td>\n",
       "      <td>False</td>\n",
       "      <td>False</td>\n",
       "      <td>False</td>\n",
       "      <td>False</td>\n",
       "      <td>CA</td>\n",
       "      <td>suburb</td>\n",
       "      <td>highest</td>\n",
       "      <td>NaN</td>\n",
       "      <td>male</td>\n",
       "      <td>False</td>\n",
       "    </tr>\n",
       "  </tbody>\n",
       "</table>\n",
       "<p>100 rows × 22 columns</p>\n",
       "</div>"
      ],
      "text/plain": [
       "     age  numberChildren  incomeRating  wealthRating  mailOrderPurchases  \\\n",
       "0   60.0             NaN           NaN           NaN                   0   \n",
       "1   46.0             1.0           6.0           9.0                  16   \n",
       "2    NaN             NaN           3.0           1.0                   2   \n",
       "3   70.0             NaN           1.0           4.0                   2   \n",
       "4   78.0             1.0           3.0           2.0                  60   \n",
       "..   ...             ...           ...           ...                 ...   \n",
       "95   NaN             NaN           NaN           NaN                   0   \n",
       "96  50.0             NaN           3.0           3.0                   8   \n",
       "97   NaN             NaN           NaN           NaN                   0   \n",
       "98  89.0             NaN           5.0           7.0                   7   \n",
       "99   NaN             NaN           NaN           NaN                   0   \n",
       "\n",
       "    totalGivingAmount  numberGifts  smallestGiftAmount  largestGiftAmount  \\\n",
       "0               240.0           31                 5.0               12.0   \n",
       "1                47.0            3                10.0               25.0   \n",
       "2               202.0           27                 2.0               16.0   \n",
       "3               109.0           16                 2.0               11.0   \n",
       "4               254.0           37                 3.0               15.0   \n",
       "..                ...          ...                 ...                ...   \n",
       "95              156.0           23                 3.0               11.0   \n",
       "96               74.0            7                 5.0               15.0   \n",
       "97              153.0           23                 3.0               17.0   \n",
       "98              125.0           20                 3.0               10.0   \n",
       "99               20.0            1                20.0               20.0   \n",
       "\n",
       "    averageGiftAmount  ...  inHouseDonor  plannedGivingDonor  \\\n",
       "0            7.741935  ...         False               False   \n",
       "1           15.666667  ...         False               False   \n",
       "2            7.481481  ...         False               False   \n",
       "3            6.812500  ...         False               False   \n",
       "4            6.864865  ...          True               False   \n",
       "..                ...  ...           ...                 ...   \n",
       "95           6.782609  ...         False               False   \n",
       "96          10.571429  ...         False               False   \n",
       "97           6.652174  ...         False               False   \n",
       "98           6.250000  ...          True               False   \n",
       "99          20.000000  ...         False               False   \n",
       "\n",
       "    sweepstakesDonor  P3Donor  state  urbanicity socioEconomicStatus  \\\n",
       "0              False    False     IL        town             average   \n",
       "1              False    False     CA      suburb             highest   \n",
       "2              False    False     NC       rural             average   \n",
       "3              False    False     CA       rural             average   \n",
       "4              False     True     FL      suburb             average   \n",
       "..               ...      ...    ...         ...                 ...   \n",
       "95             False    False     NE       rural             average   \n",
       "96             False    False     AZ        town             average   \n",
       "97             False    False     MO        town             average   \n",
       "98             False    False     FL        city             average   \n",
       "99             False    False     CA      suburb             highest   \n",
       "\n",
       "   isHomeowner  gender respondedMailing  \n",
       "0          NaN  female            False  \n",
       "1         True    male            False  \n",
       "2          NaN    male            False  \n",
       "3          NaN  female            False  \n",
       "4         True  female            False  \n",
       "..         ...     ...              ...  \n",
       "95         NaN  female            False  \n",
       "96        True  female            False  \n",
       "97         NaN    male            False  \n",
       "98        True  female            False  \n",
       "99         NaN    male            False  \n",
       "\n",
       "[100 rows x 22 columns]"
      ]
     },
     "execution_count": 6,
     "metadata": {},
     "output_type": "execute_result"
    }
   ],
   "source": [
    "df.head(100)"
   ]
  },
  {
   "cell_type": "markdown",
   "id": "af2e8934-9026-4716-8008-cc2692fa2bca",
   "metadata": {},
   "source": [
    "### 4. Find the number of missing values in every features/columns"
   ]
  },
  {
   "cell_type": "code",
   "execution_count": 7,
   "id": "ef5230f7-2dc8-40df-897a-8ad01b7d4f1b",
   "metadata": {},
   "outputs": [
    {
     "data": {
      "text/plain": [
       "age                        23665\n",
       "numberChildren             83026\n",
       "incomeRating               21286\n",
       "wealthRating               44732\n",
       "mailOrderPurchases             0\n",
       "totalGivingAmount              0\n",
       "numberGifts                    0\n",
       "smallestGiftAmount             0\n",
       "largestGiftAmount              0\n",
       "averageGiftAmount              0\n",
       "yearsSinceFirstDonation        0\n",
       "monthsSinceLastDonation        0\n",
       "inHouseDonor                   0\n",
       "plannedGivingDonor             0\n",
       "sweepstakesDonor               0\n",
       "P3Donor                        0\n",
       "state                          0\n",
       "urbanicity                  2316\n",
       "socioEconomicStatus         2316\n",
       "isHomeowner                43058\n",
       "gender                      4676\n",
       "respondedMailing               0\n",
       "dtype: int64"
      ]
     },
     "execution_count": 7,
     "metadata": {},
     "output_type": "execute_result"
    }
   ],
   "source": [
    "df.isnull().sum()"
   ]
  },
  {
   "cell_type": "markdown",
   "id": "e3314c5f-7815-4da6-a3a3-95144386f8d3",
   "metadata": {},
   "source": [
    "### 5. Plot the values of columns [numberChildren, incomeRating, gender]"
   ]
  },
  {
   "cell_type": "code",
   "execution_count": 8,
   "id": "70150ca3-8925-4d5e-b253-ed51f5b7f89e",
   "metadata": {},
   "outputs": [
    {
     "data": {
      "text/plain": [
       "<Axes: xlabel='numberChildren', ylabel='count'>"
      ]
     },
     "execution_count": 8,
     "metadata": {},
     "output_type": "execute_result"
    },
    {
     "data": {
      "image/png": "[encoded data removed]",
      "text/plain": [
       "<Figure size 640x480 with 1 Axes>"
      ]
     },
     "metadata": {},
     "output_type": "display_data"
    }
   ],
   "source": [
    "sns.countplot(x='numberChildren', data=df)"
   ]
  },
  {
   "cell_type": "code",
   "execution_count": 9,
   "id": "d3b28295-57d5-4d39-9e42-56b4776d42fe",
   "metadata": {},
   "outputs": [
    {
     "data": {
      "text/plain": [
       "<Axes: xlabel='incomeRating', ylabel='count'>"
      ]
     },
     "execution_count": 9,
     "metadata": {},
     "output_type": "execute_result"
    },
    {
     "data": {
      "image/png": "[encoded data removed]",
      "text/plain": [
       "<Figure size 640x480 with 1 Axes>"
      ]
     },
     "metadata": {},
     "output_type": "display_data"
    }
   ],
   "source": [
    "sns.countplot(x='incomeRating', data=df)"
   ]
  },
  {
   "cell_type": "code",
   "execution_count": 10,
   "id": "789d292a-c8b1-4af9-a1a4-80e33f6abc05",
   "metadata": {},
   "outputs": [
    {
     "data": {
      "text/plain": [
       "<Axes: xlabel='gender', ylabel='count'>"
      ]
     },
     "execution_count": 10,
     "metadata": {},
     "output_type": "execute_result"
    },
    {
     "data": {
      "image/png": "[encoded data removed]",
      "text/plain": [
       "<Figure size 640x480 with 1 Axes>"
      ]
     },
     "metadata": {},
     "output_type": "display_data"
    }
   ],
   "source": [
    "sns.countplot(x='gender', data=df)"
   ]
  },
  {
   "cell_type": "markdown",
   "id": "b8060c78-1de4-4a05-939a-2003c88902fa",
   "metadata": {},
   "source": [
    "### 6. Remove missing values from columns [numberChildren, incomeRating, gender]\n",
    "Explain why you have chosen the suitable method while removing missing values from each column"
   ]
  },
  {
   "cell_type": "markdown",
   "id": "a8bd580e-1201-460c-83a9-5822ccfb9050",
   "metadata": {},
   "source": [
    "<b>For numberChildren</b>\n",
    "\n",
    "removing numberChildren as almost all values (87%) are null"
   ]
  },
  {
   "cell_type": "code",
   "execution_count": 11,
   "id": "48e249c5-fbb4-4ef7-94ef-478d0b7b2b01",
   "metadata": {},
   "outputs": [
    {
     "data": {
      "text/plain": [
       "83026"
      ]
     },
     "execution_count": 11,
     "metadata": {},
     "output_type": "execute_result"
    }
   ],
   "source": [
    "df['numberChildren'].isnull().sum()"
   ]
  },
  {
   "cell_type": "code",
   "execution_count": 12,
   "id": "24d75261-286b-45f8-8e86-20f11952eed8",
   "metadata": {},
   "outputs": [],
   "source": [
    "df = df.drop(['numberChildren'], axis=1)"
   ]
  },
  {
   "cell_type": "markdown",
   "id": "621c339e-da49-4795-8271-a9f3231346b0",
   "metadata": {},
   "source": [
    "<b>For incomeRating</b>\n",
    "\n",
    "Mode is used to fill the missing value "
   ]
  },
  {
   "cell_type": "code",
   "execution_count": 13,
   "id": "58826381-61e3-4a1f-9412-d6860cdec047",
   "metadata": {},
   "outputs": [
    {
     "data": {
      "text/plain": [
       "21286"
      ]
     },
     "execution_count": 13,
     "metadata": {},
     "output_type": "execute_result"
    }
   ],
   "source": [
    "df['incomeRating'].isnull().sum()"
   ]
  },
  {
   "cell_type": "code",
   "execution_count": 14,
   "id": "6a0417b2-c2c6-451e-b2f2-19ec3331a2de",
   "metadata": {},
   "outputs": [
    {
     "data": {
      "text/plain": [
       "5.0"
      ]
     },
     "execution_count": 14,
     "metadata": {},
     "output_type": "execute_result"
    }
   ],
   "source": [
    "modeIncomeRating = df['incomeRating'].mode()[0]\n",
    "modeIncomeRating"
   ]
  },
  {
   "cell_type": "code",
   "execution_count": 15,
   "id": "03faeba3-4e98-4c7d-b2e3-c9128a4d9570",
   "metadata": {},
   "outputs": [],
   "source": [
    "df['incomeRating'].fillna(modeIncomeRating, inplace=True)"
   ]
  },
  {
   "cell_type": "code",
   "execution_count": 16,
   "id": "2f2d565e-8e94-43f1-be12-386b73ad4810",
   "metadata": {},
   "outputs": [
    {
     "data": {
      "text/plain": [
       "0"
      ]
     },
     "execution_count": 16,
     "metadata": {},
     "output_type": "execute_result"
    }
   ],
   "source": [
    "df['incomeRating'].isnull().sum()"
   ]
  },
  {
   "cell_type": "markdown",
   "id": "2038de42-8ec5-4173-883f-d98aa46ac4d0",
   "metadata": {},
   "source": [
    "<b>For gender</b>\n",
    "\n",
    "Drop null values as only small portion of values are null. (4.9%)"
   ]
  },
  {
   "cell_type": "code",
   "execution_count": 17,
   "id": "3a75dc21-3b60-4b04-9898-50ccaaa30b09",
   "metadata": {},
   "outputs": [
    {
     "data": {
      "text/plain": [
       "4.900851045990022"
      ]
     },
     "execution_count": 17,
     "metadata": {},
     "output_type": "execute_result"
    }
   ],
   "source": [
    "df['gender'].isnull().sum() / df.shape[0] * 100"
   ]
  },
  {
   "cell_type": "code",
   "execution_count": 18,
   "id": "9b6a1684-b90f-4e5c-b354-69ccee5ce140",
   "metadata": {},
   "outputs": [],
   "source": [
    "df = df.dropna(subset= ['gender'])"
   ]
  },
  {
   "cell_type": "code",
   "execution_count": 19,
   "id": "e26636a6-9ee3-4a2d-9685-dd45f89ce07d",
   "metadata": {},
   "outputs": [
    {
     "data": {
      "text/html": [
       "<div>\n",
       "<style scoped>\n",
       "    .dataframe tbody tr th:only-of-type {\n",
       "        vertical-align: middle;\n",
       "    }\n",
       "\n",
       "    .dataframe tbody tr th {\n",
       "        vertical-align: top;\n",
       "    }\n",
       "\n",
       "    .dataframe thead th {\n",
       "        text-align: right;\n",
       "    }\n",
       "</style>\n",
       "<table border=\"1\" class=\"dataframe\">\n",
       "  <thead>\n",
       "    <tr style=\"text-align: right;\">\n",
       "      <th></th>\n",
       "      <th>age</th>\n",
       "      <th>incomeRating</th>\n",
       "      <th>wealthRating</th>\n",
       "      <th>mailOrderPurchases</th>\n",
       "      <th>totalGivingAmount</th>\n",
       "      <th>numberGifts</th>\n",
       "      <th>smallestGiftAmount</th>\n",
       "      <th>largestGiftAmount</th>\n",
       "      <th>averageGiftAmount</th>\n",
       "      <th>yearsSinceFirstDonation</th>\n",
       "      <th>...</th>\n",
       "      <th>inHouseDonor</th>\n",
       "      <th>plannedGivingDonor</th>\n",
       "      <th>sweepstakesDonor</th>\n",
       "      <th>P3Donor</th>\n",
       "      <th>state</th>\n",
       "      <th>urbanicity</th>\n",
       "      <th>socioEconomicStatus</th>\n",
       "      <th>isHomeowner</th>\n",
       "      <th>gender</th>\n",
       "      <th>respondedMailing</th>\n",
       "    </tr>\n",
       "  </thead>\n",
       "  <tbody>\n",
       "    <tr>\n",
       "      <th>0</th>\n",
       "      <td>60.0</td>\n",
       "      <td>5.0</td>\n",
       "      <td>NaN</td>\n",
       "      <td>0</td>\n",
       "      <td>240.0</td>\n",
       "      <td>31</td>\n",
       "      <td>5.0</td>\n",
       "      <td>12.0</td>\n",
       "      <td>7.741935</td>\n",
       "      <td>8</td>\n",
       "      <td>...</td>\n",
       "      <td>False</td>\n",
       "      <td>False</td>\n",
       "      <td>False</td>\n",
       "      <td>False</td>\n",
       "      <td>IL</td>\n",
       "      <td>town</td>\n",
       "      <td>average</td>\n",
       "      <td>NaN</td>\n",
       "      <td>female</td>\n",
       "      <td>False</td>\n",
       "    </tr>\n",
       "    <tr>\n",
       "      <th>1</th>\n",
       "      <td>46.0</td>\n",
       "      <td>6.0</td>\n",
       "      <td>9.0</td>\n",
       "      <td>16</td>\n",
       "      <td>47.0</td>\n",
       "      <td>3</td>\n",
       "      <td>10.0</td>\n",
       "      <td>25.0</td>\n",
       "      <td>15.666667</td>\n",
       "      <td>3</td>\n",
       "      <td>...</td>\n",
       "      <td>False</td>\n",
       "      <td>False</td>\n",
       "      <td>False</td>\n",
       "      <td>False</td>\n",
       "      <td>CA</td>\n",
       "      <td>suburb</td>\n",
       "      <td>highest</td>\n",
       "      <td>True</td>\n",
       "      <td>male</td>\n",
       "      <td>False</td>\n",
       "    </tr>\n",
       "    <tr>\n",
       "      <th>2</th>\n",
       "      <td>NaN</td>\n",
       "      <td>3.0</td>\n",
       "      <td>1.0</td>\n",
       "      <td>2</td>\n",
       "      <td>202.0</td>\n",
       "      <td>27</td>\n",
       "      <td>2.0</td>\n",
       "      <td>16.0</td>\n",
       "      <td>7.481481</td>\n",
       "      <td>7</td>\n",
       "      <td>...</td>\n",
       "      <td>False</td>\n",
       "      <td>False</td>\n",
       "      <td>False</td>\n",
       "      <td>False</td>\n",
       "      <td>NC</td>\n",
       "      <td>rural</td>\n",
       "      <td>average</td>\n",
       "      <td>NaN</td>\n",
       "      <td>male</td>\n",
       "      <td>False</td>\n",
       "    </tr>\n",
       "    <tr>\n",
       "      <th>3</th>\n",
       "      <td>70.0</td>\n",
       "      <td>1.0</td>\n",
       "      <td>4.0</td>\n",
       "      <td>2</td>\n",
       "      <td>109.0</td>\n",
       "      <td>16</td>\n",
       "      <td>2.0</td>\n",
       "      <td>11.0</td>\n",
       "      <td>6.812500</td>\n",
       "      <td>10</td>\n",
       "      <td>...</td>\n",
       "      <td>False</td>\n",
       "      <td>False</td>\n",
       "      <td>False</td>\n",
       "      <td>False</td>\n",
       "      <td>CA</td>\n",
       "      <td>rural</td>\n",
       "      <td>average</td>\n",
       "      <td>NaN</td>\n",
       "      <td>female</td>\n",
       "      <td>False</td>\n",
       "    </tr>\n",
       "    <tr>\n",
       "      <th>4</th>\n",
       "      <td>78.0</td>\n",
       "      <td>3.0</td>\n",
       "      <td>2.0</td>\n",
       "      <td>60</td>\n",
       "      <td>254.0</td>\n",
       "      <td>37</td>\n",
       "      <td>3.0</td>\n",
       "      <td>15.0</td>\n",
       "      <td>6.864865</td>\n",
       "      <td>11</td>\n",
       "      <td>...</td>\n",
       "      <td>True</td>\n",
       "      <td>False</td>\n",
       "      <td>False</td>\n",
       "      <td>True</td>\n",
       "      <td>FL</td>\n",
       "      <td>suburb</td>\n",
       "      <td>average</td>\n",
       "      <td>True</td>\n",
       "      <td>female</td>\n",
       "      <td>False</td>\n",
       "    </tr>\n",
       "  </tbody>\n",
       "</table>\n",
       "<p>5 rows × 21 columns</p>\n",
       "</div>"
      ],
      "text/plain": [
       "    age  incomeRating  wealthRating  mailOrderPurchases  totalGivingAmount  \\\n",
       "0  60.0           5.0           NaN                   0              240.0   \n",
       "1  46.0           6.0           9.0                  16               47.0   \n",
       "2   NaN           3.0           1.0                   2              202.0   \n",
       "3  70.0           1.0           4.0                   2              109.0   \n",
       "4  78.0           3.0           2.0                  60              254.0   \n",
       "\n",
       "   numberGifts  smallestGiftAmount  largestGiftAmount  averageGiftAmount  \\\n",
       "0           31                 5.0               12.0           7.741935   \n",
       "1            3                10.0               25.0          15.666667   \n",
       "2           27                 2.0               16.0           7.481481   \n",
       "3           16                 2.0               11.0           6.812500   \n",
       "4           37                 3.0               15.0           6.864865   \n",
       "\n",
       "   yearsSinceFirstDonation  ...  inHouseDonor  plannedGivingDonor  \\\n",
       "0                        8  ...         False               False   \n",
       "1                        3  ...         False               False   \n",
       "2                        7  ...         False               False   \n",
       "3                       10  ...         False               False   \n",
       "4                       11  ...          True               False   \n",
       "\n",
       "   sweepstakesDonor  P3Donor  state urbanicity socioEconomicStatus  \\\n",
       "0             False    False     IL       town             average   \n",
       "1             False    False     CA     suburb             highest   \n",
       "2             False    False     NC      rural             average   \n",
       "3             False    False     CA      rural             average   \n",
       "4             False     True     FL     suburb             average   \n",
       "\n",
       "  isHomeowner  gender respondedMailing  \n",
       "0         NaN  female            False  \n",
       "1        True    male            False  \n",
       "2         NaN    male            False  \n",
       "3         NaN  female            False  \n",
       "4        True  female            False  \n",
       "\n",
       "[5 rows x 21 columns]"
      ]
     },
     "execution_count": 19,
     "metadata": {},
     "output_type": "execute_result"
    }
   ],
   "source": [
    "df.head()"
   ]
  },
  {
   "cell_type": "markdown",
   "id": "d5306f90-7960-4243-a80b-fa357f737820",
   "metadata": {},
   "source": [
    "### 7. Plot the values of columns [numberChildren, incomeRating, gender] without missing values"
   ]
  },
  {
   "cell_type": "code",
   "execution_count": 20,
   "id": "c65079b5-d309-4b17-b1c0-904be1990722",
   "metadata": {},
   "outputs": [
    {
     "data": {
      "text/plain": [
       "<Axes: xlabel='incomeRating', ylabel='count'>"
      ]
     },
     "execution_count": 20,
     "metadata": {},
     "output_type": "execute_result"
    },
    {
     "data": {
      "image/png": "[encoded data removed]",
      "text/plain": [
       "<Figure size 1000x1000 with 1 Axes>"
      ]
     },
     "metadata": {},
     "output_type": "display_data"
    }
   ],
   "source": [
    "fig, ax = plt.subplots(figsize=(10,10))         # Sample figsize in inches\n",
    "sns.countplot(x='incomeRating', data=df, ax=ax)"
   ]
  },
  {
   "cell_type": "code",
   "execution_count": 21,
   "id": "6257aec5-7361-4655-93da-53b7ea067d43",
   "metadata": {},
   "outputs": [
    {
     "data": {
      "text/plain": [
       "<Axes: xlabel='gender', ylabel='count'>"
      ]
     },
     "execution_count": 21,
     "metadata": {},
     "output_type": "execute_result"
    },
    {
     "data": {
      "image/png": "[encoded data removed]",
      "text/plain": [
       "<Figure size 640x480 with 1 Axes>"
      ]
     },
     "metadata": {},
     "output_type": "display_data"
    }
   ],
   "source": [
    "sns.countplot(x='gender', data=df)"
   ]
  }
 ],
 "metadata": {
  "kernelspec": {
   "display_name": "Python 3 (ipykernel)",
   "language": "python",
   "name": "python3"
  },
  "language_info": {
   "codemirror_mode": {
    "name": "ipython",
    "version": 3
   },
   "file_extension": ".py",
   "mimetype": "text/x-python",
   "name": "python",
   "nbconvert_exporter": "python",
   "pygments_lexer": "ipython3",
   "version": "3.10.9"
  }
 },
 "nbformat": 4,
 "nbformat_minor": 5
}
