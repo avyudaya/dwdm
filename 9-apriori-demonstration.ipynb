{
 "cells": [
  {
   "cell_type": "markdown",
   "id": "4e6e17ea-1dd1-449a-a969-55cd5a62cafc",
   "metadata": {},
   "source": [
    "# Aprori Algorithm Demonstration"
   ]
  },
  {
   "cell_type": "code",
   "execution_count": 2,
   "id": "2e31d72d-c183-48d8-af5d-85b98cc6eb13",
   "metadata": {},
   "outputs": [],
   "source": [
    "import pandas as pd\n",
    "from mlxtend.preprocessing import TransactionEncoder\n",
    "from mlxtend.frequent_patterns import apriori\n",
    "from mlxtend.frequent_patterns import association_rules\n",
    "# Note: from mlxtend.frequent_pattern import fpgrowth for using fpgrowth instead of apriori\n",
    "# from IPython.display import display_html\n",
    "#Note: Install mlxtend \n",
    "#conda install mlxtend --channel conda-forge"
   ]
  },
  {
   "cell_type": "code",
   "execution_count": 3,
   "id": "c66babd2-482a-4217-b7df-c7141215fe1e",
   "metadata": {},
   "outputs": [],
   "source": [
    "def frequent_itemset(data):\n",
    " print(\"Enter the value of minimum support threshold: \")\n",
    " support = float(input())\n",
    " \n",
    " fq_itemsets = apriori(data, min_support=support, use_colnames=True)\n",
    " # Note: fq_itemsets = fpgrowth(data, min_support=support, use_colnames=True) for fpgrowth algorithm\n",
    " \n",
    " return fq_itemsets "
   ]
  },
  {
   "cell_type": "code",
   "execution_count": 5,
   "id": "615dd99a-5bbb-49ef-92d5-39399825e29f",
   "metadata": {},
   "outputs": [],
   "source": [
    "def association_rule(frequent_itemsets):\n",
    " min_confidence = float(input(\"Enter mininum confidence threshold: \"))\n",
    " rule = association_rules(frequent_itemsets, metric=\"confidence\", min_threshold=min_confidence)\n",
    " # Note: If you want to use \"lift\" instead of \"confidence\" change metric=\"lift\" \n",
    " # and min_threshold=min_lift (user input)S\n",
    " return rule"
   ]
  },
  {
   "cell_type": "code",
   "execution_count": 7,
   "id": "572eb12d-4cbd-4008-92d9-2462f455adb4",
   "metadata": {},
   "outputs": [],
   "source": [
    "data = [['Milk', 'Onion', 'Nutmeg', 'Kidney Beans', 'Eggs', 'Yogurt'],\n",
    " ['Dill', 'Onion', 'Nutmeg', 'Kidney Beans', 'Eggs', 'Yogurt'],\n",
    " ['Milk', 'Apple', 'Kidney Beans', 'Eggs'],\n",
    " ['Milk', 'Unicorn', 'Corn', 'Kidney Beans', 'Yogurt'],\n",
    " ['Corn', 'Onion', 'Onion', 'Kidney Beans', 'Ice cream', 'Eggs']]"
   ]
  },
  {
   "cell_type": "code",
   "execution_count": 8,
   "id": "1b941c6b-0902-498a-a09a-d094749387da",
   "metadata": {},
   "outputs": [],
   "source": [
    "te = TransactionEncoder()\n",
    "transformed_data = te.fit(data).transform(data)"
   ]
  },
  {
   "cell_type": "code",
   "execution_count": 9,
   "id": "b1a79503-cf68-480e-bacf-9df1fd690f47",
   "metadata": {},
   "outputs": [],
   "source": [
    "df = pd.DataFrame(transformed_data, columns=te.columns_)"
   ]
  },
  {
   "cell_type": "code",
   "execution_count": 10,
   "id": "d71531b1-2c2e-44df-98e2-af5f07338b90",
   "metadata": {},
   "outputs": [
    {
     "name": "stdout",
     "output_type": "stream",
     "text": [
      "Enter the value of minimum support threshold: \n"
     ]
    },
    {
     "name": "stdin",
     "output_type": "stream",
     "text": [
      " 0.6\n"
     ]
    }
   ],
   "source": [
    "# Note here support = no of time item present divided by total number of transactions\n",
    "# Not support count \n",
    "fq_itemsets = frequent_itemset(df)"
   ]
  },
  {
   "cell_type": "code",
   "execution_count": 11,
   "id": "69d9d8b2-a173-4e7f-ab16-d1d852b35e79",
   "metadata": {},
   "outputs": [
    {
     "name": "stdin",
     "output_type": "stream",
     "text": [
      "Enter mininum confidence threshold:  0.78\n"
     ]
    }
   ],
   "source": [
    "assoc_rule = association_rule(fq_itemsets)"
   ]
  },
  {
   "cell_type": "code",
   "execution_count": 12,
   "id": "34bdd3aa-26c3-4ce4-bab4-31c2cc775ba4",
   "metadata": {},
   "outputs": [
    {
     "data": {
      "text/html": [
       "<div>\n",
       "<style scoped>\n",
       "    .dataframe tbody tr th:only-of-type {\n",
       "        vertical-align: middle;\n",
       "    }\n",
       "\n",
       "    .dataframe tbody tr th {\n",
       "        vertical-align: top;\n",
       "    }\n",
       "\n",
       "    .dataframe thead th {\n",
       "        text-align: right;\n",
       "    }\n",
       "</style>\n",
       "<table border=\"1\" class=\"dataframe\">\n",
       "  <thead>\n",
       "    <tr style=\"text-align: right;\">\n",
       "      <th></th>\n",
       "      <th>antecedents</th>\n",
       "      <th>consequents</th>\n",
       "      <th>antecedent support</th>\n",
       "      <th>consequent support</th>\n",
       "      <th>support</th>\n",
       "      <th>confidence</th>\n",
       "      <th>lift</th>\n",
       "      <th>leverage</th>\n",
       "      <th>conviction</th>\n",
       "      <th>zhangs_metric</th>\n",
       "    </tr>\n",
       "  </thead>\n",
       "  <tbody>\n",
       "    <tr>\n",
       "      <th>0</th>\n",
       "      <td>(Kidney Beans)</td>\n",
       "      <td>(Eggs)</td>\n",
       "      <td>1.0</td>\n",
       "      <td>0.8</td>\n",
       "      <td>0.8</td>\n",
       "      <td>0.8</td>\n",
       "      <td>1.00</td>\n",
       "      <td>0.00</td>\n",
       "      <td>1.0</td>\n",
       "      <td>0.0</td>\n",
       "    </tr>\n",
       "    <tr>\n",
       "      <th>1</th>\n",
       "      <td>(Eggs)</td>\n",
       "      <td>(Kidney Beans)</td>\n",
       "      <td>0.8</td>\n",
       "      <td>1.0</td>\n",
       "      <td>0.8</td>\n",
       "      <td>1.0</td>\n",
       "      <td>1.00</td>\n",
       "      <td>0.00</td>\n",
       "      <td>inf</td>\n",
       "      <td>0.0</td>\n",
       "    </tr>\n",
       "    <tr>\n",
       "      <th>2</th>\n",
       "      <td>(Onion)</td>\n",
       "      <td>(Eggs)</td>\n",
       "      <td>0.6</td>\n",
       "      <td>0.8</td>\n",
       "      <td>0.6</td>\n",
       "      <td>1.0</td>\n",
       "      <td>1.25</td>\n",
       "      <td>0.12</td>\n",
       "      <td>inf</td>\n",
       "      <td>0.5</td>\n",
       "    </tr>\n",
       "    <tr>\n",
       "      <th>3</th>\n",
       "      <td>(Milk)</td>\n",
       "      <td>(Kidney Beans)</td>\n",
       "      <td>0.6</td>\n",
       "      <td>1.0</td>\n",
       "      <td>0.6</td>\n",
       "      <td>1.0</td>\n",
       "      <td>1.00</td>\n",
       "      <td>0.00</td>\n",
       "      <td>inf</td>\n",
       "      <td>0.0</td>\n",
       "    </tr>\n",
       "    <tr>\n",
       "      <th>4</th>\n",
       "      <td>(Onion)</td>\n",
       "      <td>(Kidney Beans)</td>\n",
       "      <td>0.6</td>\n",
       "      <td>1.0</td>\n",
       "      <td>0.6</td>\n",
       "      <td>1.0</td>\n",
       "      <td>1.00</td>\n",
       "      <td>0.00</td>\n",
       "      <td>inf</td>\n",
       "      <td>0.0</td>\n",
       "    </tr>\n",
       "    <tr>\n",
       "      <th>5</th>\n",
       "      <td>(Yogurt)</td>\n",
       "      <td>(Kidney Beans)</td>\n",
       "      <td>0.6</td>\n",
       "      <td>1.0</td>\n",
       "      <td>0.6</td>\n",
       "      <td>1.0</td>\n",
       "      <td>1.00</td>\n",
       "      <td>0.00</td>\n",
       "      <td>inf</td>\n",
       "      <td>0.0</td>\n",
       "    </tr>\n",
       "    <tr>\n",
       "      <th>6</th>\n",
       "      <td>(Onion, Kidney Beans)</td>\n",
       "      <td>(Eggs)</td>\n",
       "      <td>0.6</td>\n",
       "      <td>0.8</td>\n",
       "      <td>0.6</td>\n",
       "      <td>1.0</td>\n",
       "      <td>1.25</td>\n",
       "      <td>0.12</td>\n",
       "      <td>inf</td>\n",
       "      <td>0.5</td>\n",
       "    </tr>\n",
       "    <tr>\n",
       "      <th>7</th>\n",
       "      <td>(Onion, Eggs)</td>\n",
       "      <td>(Kidney Beans)</td>\n",
       "      <td>0.6</td>\n",
       "      <td>1.0</td>\n",
       "      <td>0.6</td>\n",
       "      <td>1.0</td>\n",
       "      <td>1.00</td>\n",
       "      <td>0.00</td>\n",
       "      <td>inf</td>\n",
       "      <td>0.0</td>\n",
       "    </tr>\n",
       "    <tr>\n",
       "      <th>8</th>\n",
       "      <td>(Onion)</td>\n",
       "      <td>(Kidney Beans, Eggs)</td>\n",
       "      <td>0.6</td>\n",
       "      <td>0.8</td>\n",
       "      <td>0.6</td>\n",
       "      <td>1.0</td>\n",
       "      <td>1.25</td>\n",
       "      <td>0.12</td>\n",
       "      <td>inf</td>\n",
       "      <td>0.5</td>\n",
       "    </tr>\n",
       "  </tbody>\n",
       "</table>\n",
       "</div>"
      ],
      "text/plain": [
       "             antecedents           consequents  antecedent support  \\\n",
       "0         (Kidney Beans)                (Eggs)                 1.0   \n",
       "1                 (Eggs)        (Kidney Beans)                 0.8   \n",
       "2                (Onion)                (Eggs)                 0.6   \n",
       "3                 (Milk)        (Kidney Beans)                 0.6   \n",
       "4                (Onion)        (Kidney Beans)                 0.6   \n",
       "5               (Yogurt)        (Kidney Beans)                 0.6   \n",
       "6  (Onion, Kidney Beans)                (Eggs)                 0.6   \n",
       "7          (Onion, Eggs)        (Kidney Beans)                 0.6   \n",
       "8                (Onion)  (Kidney Beans, Eggs)                 0.6   \n",
       "\n",
       "   consequent support  support  confidence  lift  leverage  conviction  \\\n",
       "0                 0.8      0.8         0.8  1.00      0.00         1.0   \n",
       "1                 1.0      0.8         1.0  1.00      0.00         inf   \n",
       "2                 0.8      0.6         1.0  1.25      0.12         inf   \n",
       "3                 1.0      0.6         1.0  1.00      0.00         inf   \n",
       "4                 1.0      0.6         1.0  1.00      0.00         inf   \n",
       "5                 1.0      0.6         1.0  1.00      0.00         inf   \n",
       "6                 0.8      0.6         1.0  1.25      0.12         inf   \n",
       "7                 1.0      0.6         1.0  1.00      0.00         inf   \n",
       "8                 0.8      0.6         1.0  1.25      0.12         inf   \n",
       "\n",
       "   zhangs_metric  \n",
       "0            0.0  \n",
       "1            0.0  \n",
       "2            0.5  \n",
       "3            0.0  \n",
       "4            0.0  \n",
       "5            0.0  \n",
       "6            0.5  \n",
       "7            0.0  \n",
       "8            0.5  "
      ]
     },
     "execution_count": 12,
     "metadata": {},
     "output_type": "execute_result"
    }
   ],
   "source": [
    "assoc_rule\n",
    "# Ignore leverage and conviction or you may drop them"
   ]
  }
 ],
 "metadata": {
  "kernelspec": {
   "display_name": "Python 3 (ipykernel)",
   "language": "python",
   "name": "python3"
  },
  "language_info": {
   "codemirror_mode": {
    "name": "ipython",
    "version": 3
   },
   "file_extension": ".py",
   "mimetype": "text/x-python",
   "name": "python",
   "nbconvert_exporter": "python",
   "pygments_lexer": "ipython3",
   "version": "3.10.9"
  }
 },
 "nbformat": 4,
 "nbformat_minor": 5
}
